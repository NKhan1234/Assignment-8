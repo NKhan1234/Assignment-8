{
 "cells": [
  {
   "cell_type": "code",
   "execution_count": 1,
   "id": "b72a1a6e-4908-4c0d-aa0b-67d449d36b8f",
   "metadata": {},
   "outputs": [],
   "source": [
    "# Q1. What is multithreading in python? Why is it used? Name the module used to handle threads in python"
   ]
  },
  {
   "cell_type": "code",
   "execution_count": 2,
   "id": "755b5f54-5307-44c1-89cd-afaf9c05bb40",
   "metadata": {},
   "outputs": [],
   "source": [
    "# A1.Multithreading is defined as the ability of a processor to execute multiple threads concurrently. \n",
    "#    The threading module is a high-level implementation of multithreading used to deploy an application in Python. \n",
    "#     A start() method is used to initiate the activity of a thread."
   ]
  },
  {
   "cell_type": "code",
   "execution_count": 3,
   "id": "282162b5-a6c6-424e-a46f-cb039640f907",
   "metadata": {},
   "outputs": [],
   "source": [
    "# Q2. Why threading module used? write the use of the following functions."
   ]
  },
  {
   "cell_type": "code",
   "execution_count": 4,
   "id": "203b313c-1668-437c-babc-73e5b6139ace",
   "metadata": {},
   "outputs": [],
   "source": [
    "# A2.\n",
    "# 1.active_count() from the threading module is used to count the currently active or running threads.\n",
    "# 2.current_thread() is an inbuilt method of the threading module, it is used to return the current Thread object.\n"
   ]
  },
  {
   "cell_type": "code",
   "execution_count": 5,
   "id": "44059eae-2734-42fa-87a0-fdf20303b33b",
   "metadata": {},
   "outputs": [],
   "source": [
    "# Q3. Explain the following functions."
   ]
  },
  {
   "cell_type": "code",
   "execution_count": 6,
   "id": "4a6570a0-e6fa-473e-b9a8-b6b709d6e3dc",
   "metadata": {},
   "outputs": [],
   "source": [
    "# A3.\n",
    "# 1.\n",
    "import threading\n",
    "import time\n",
    "def run(x):\n",
    "    print(\"this is my run\")\n",
    "    time.sleep(1)"
   ]
  },
  {
   "cell_type": "code",
   "execution_count": 7,
   "id": "47201bd6-cc43-4d89-8da1-6bcf29c62edf",
   "metadata": {},
   "outputs": [],
   "source": [
    "t1 = [threading.Thread(target=run, args=(x,)) for x in range(4)]"
   ]
  },
  {
   "cell_type": "code",
   "execution_count": 8,
   "id": "4741a990-c9ae-4d07-8722-44eb117e3e1b",
   "metadata": {},
   "outputs": [
    {
     "name": "stdout",
     "output_type": "stream",
     "text": [
      "this is my run\n",
      "this is my run\n",
      "this is my run\n",
      "this is my run\n"
     ]
    }
   ],
   "source": [
    "for t in t1:\n",
    "    t.start()"
   ]
  },
  {
   "cell_type": "code",
   "execution_count": 9,
   "id": "e69e3284-5505-41cc-8963-b6064135f210",
   "metadata": {},
   "outputs": [
    {
     "name": "stdout",
     "output_type": "stream",
     "text": [
      "<Thread(Thread-8 (run), started 140549281527360)>\n"
     ]
    }
   ],
   "source": [
    "print(t)"
   ]
  },
  {
   "cell_type": "code",
   "execution_count": 10,
   "id": "5c3771ea-cd93-4943-9185-e57b90c864a7",
   "metadata": {},
   "outputs": [],
   "source": [
    "import time\n",
    "import threading\n",
    "\n",
    "def func1(x):\n",
    "    time.sleep(2)\n",
    "    print('Value by Thread 1:', x)\n",
    "\n",
    "def func2(x):\n",
    "    time.sleep(5)\n",
    "    print('Value by Thread 2:', x)"
   ]
  },
  {
   "cell_type": "code",
   "execution_count": 11,
   "id": "71547a1c-3584-45dc-8bf7-40cdbe0d64da",
   "metadata": {},
   "outputs": [],
   "source": [
    "th1 = threading.Thread(target=func1, args=(1,)) \n",
    "th2 =threading.Thread(target=func2, args=(2,)) "
   ]
  },
  {
   "cell_type": "code",
   "execution_count": 12,
   "id": "8573b5dc-2972-4f32-a889-24e068484ccb",
   "metadata": {},
   "outputs": [
    {
     "name": "stdout",
     "output_type": "stream",
     "text": [
      "Value by Thread 1: 1\n",
      "Value by Thread 2: 2\n",
      "False\n",
      "False\n"
     ]
    },
    {
     "ename": "AttributeError",
     "evalue": "_target",
     "output_type": "error",
     "traceback": [
      "\u001b[0;31m---------------------------------------------------------------------------\u001b[0m",
      "\u001b[0;31mAttributeError\u001b[0m                            Traceback (most recent call last)",
      "File \u001b[0;32m/opt/conda/lib/python3.10/threading.py:952\u001b[0m, in \u001b[0;36mThread.run\u001b[0;34m(self)\u001b[0m\n\u001b[1;32m    951\u001b[0m \u001b[38;5;28;01mtry\u001b[39;00m:\n\u001b[0;32m--> 952\u001b[0m     \u001b[38;5;28;01mif\u001b[39;00m \u001b[38;5;28;43mself\u001b[39;49m\u001b[38;5;241;43m.\u001b[39;49m\u001b[43m_target\u001b[49m \u001b[38;5;129;01mis\u001b[39;00m \u001b[38;5;129;01mnot\u001b[39;00m \u001b[38;5;28;01mNone\u001b[39;00m:\n\u001b[1;32m    953\u001b[0m         \u001b[38;5;28mself\u001b[39m\u001b[38;5;241m.\u001b[39m_target(\u001b[38;5;241m*\u001b[39m\u001b[38;5;28mself\u001b[39m\u001b[38;5;241m.\u001b[39m_args, \u001b[38;5;241m*\u001b[39m\u001b[38;5;241m*\u001b[39m\u001b[38;5;28mself\u001b[39m\u001b[38;5;241m.\u001b[39m_kwargs)\n",
      "\u001b[0;31mAttributeError\u001b[0m: 'Thread' object has no attribute '_target'",
      "\nDuring handling of the above exception, another exception occurred:\n",
      "\u001b[0;31mAttributeError\u001b[0m                            Traceback (most recent call last)",
      "Cell \u001b[0;32mIn[12], line 7\u001b[0m\n\u001b[1;32m      5\u001b[0m \u001b[38;5;28mprint\u001b[39m(th1\u001b[38;5;241m.\u001b[39mis_alive())\n\u001b[1;32m      6\u001b[0m \u001b[38;5;28mprint\u001b[39m(th2\u001b[38;5;241m.\u001b[39mis_alive())\n\u001b[0;32m----> 7\u001b[0m \u001b[38;5;28mprint\u001b[39m(\u001b[43mth1\u001b[49m\u001b[38;5;241;43m.\u001b[39;49m\u001b[43mrun\u001b[49m\u001b[43m(\u001b[49m\u001b[43m)\u001b[49m)\n\u001b[1;32m      8\u001b[0m \u001b[38;5;28mprint\u001b[39m(th2\u001b[38;5;241m.\u001b[39mrun())\n",
      "File \u001b[0;32m/opt/conda/lib/python3.10/threading.py:957\u001b[0m, in \u001b[0;36mThread.run\u001b[0;34m(self)\u001b[0m\n\u001b[1;32m    953\u001b[0m         \u001b[38;5;28mself\u001b[39m\u001b[38;5;241m.\u001b[39m_target(\u001b[38;5;241m*\u001b[39m\u001b[38;5;28mself\u001b[39m\u001b[38;5;241m.\u001b[39m_args, \u001b[38;5;241m*\u001b[39m\u001b[38;5;241m*\u001b[39m\u001b[38;5;28mself\u001b[39m\u001b[38;5;241m.\u001b[39m_kwargs)\n\u001b[1;32m    954\u001b[0m \u001b[38;5;28;01mfinally\u001b[39;00m:\n\u001b[1;32m    955\u001b[0m     \u001b[38;5;66;03m# Avoid a refcycle if the thread is running a function with\u001b[39;00m\n\u001b[1;32m    956\u001b[0m     \u001b[38;5;66;03m# an argument that has a member that points to the thread.\u001b[39;00m\n\u001b[0;32m--> 957\u001b[0m     \u001b[38;5;28;01mdel\u001b[39;00m \u001b[38;5;28mself\u001b[39m\u001b[38;5;241m.\u001b[39m_target, \u001b[38;5;28mself\u001b[39m\u001b[38;5;241m.\u001b[39m_args, \u001b[38;5;28mself\u001b[39m\u001b[38;5;241m.\u001b[39m_kwargs\n",
      "\u001b[0;31mAttributeError\u001b[0m: _target"
     ]
    }
   ],
   "source": [
    "th1.start()\n",
    "th1.join()\n",
    "th2.start()\n",
    "th2.join()\n",
    "print(th1.is_alive())\n",
    "print(th2.is_alive())\n",
    "print(th1.run())\n",
    "print(th2.run())"
   ]
  },
  {
   "cell_type": "code",
   "execution_count": null,
   "id": "276790c3-001d-43f6-833f-2b6ee46ab634",
   "metadata": {},
   "outputs": [],
   "source": [
    "# Q4. rite a python program to create two threads. Thread one must print the list of squares and thread\n",
    "# two must print the list of cubes."
   ]
  },
  {
   "cell_type": "code",
   "execution_count": null,
   "id": "45108b4b-7ac1-43fc-b32d-bc8073d28bab",
   "metadata": {},
   "outputs": [],
   "source": [
    "# A4.\n",
    "import threading\n",
    "import time"
   ]
  },
  {
   "cell_type": "code",
   "execution_count": 32,
   "id": "dd73b1fd-f4a5-4842-a321-81800f35f70a",
   "metadata": {},
   "outputs": [
    {
     "name": "stdout",
     "output_type": "stream",
     "text": [
      "[1, 4, 9, 16, 25, 36]\n",
      "[1, 8, 27, 64, 125, 216]\n"
     ]
    }
   ],
   "source": [
    "l = [1,2,3,4,5,6]\n",
    "l1 = []\n",
    "def square(l):\n",
    "    for i in l:\n",
    "        l1.append(i**2)\n",
    "    time.sleep(1)\n",
    "    print(l1)\n",
    "square(l)  \n",
    "\n",
    "\n",
    "l = [1,2,3,4,5,6]\n",
    "l2 = []\n",
    "def cube(l):\n",
    "    for i in l:\n",
    "        l2.append(i**3)\n",
    "    time.sleep(2)\n",
    "    print(l2)\n",
    "cube(l) "
   ]
  },
  {
   "cell_type": "code",
   "execution_count": 33,
   "id": "7cb96d8e-4e13-49a8-9872-15df8d986578",
   "metadata": {},
   "outputs": [],
   "source": [
    "thr1 = threading.Thread(target=square, args=(l,)) \n",
    "thr2 =threading.Thread(target=cube, args=(l,)) "
   ]
  },
  {
   "cell_type": "code",
   "execution_count": 34,
   "id": "fbc35b2a-aefb-440a-8fa8-36520d44ab48",
   "metadata": {},
   "outputs": [
    {
     "name": "stdout",
     "output_type": "stream",
     "text": [
      "[1, 4, 9, 16, 25, 36, 1, 4, 9, 16, 25, 36]\n",
      "[1, 8, 27, 64, 125, 216, 1, 8, 27, 64, 125, 216]\n"
     ]
    }
   ],
   "source": [
    "thr1.start()\n",
    "thr1.join()\n",
    "thr2.start()\n",
    "thr2.join()"
   ]
  },
  {
   "cell_type": "code",
   "execution_count": null,
   "id": "c39ba6b8-52f5-4190-8292-3239b203dcb6",
   "metadata": {},
   "outputs": [],
   "source": []
  }
 ],
 "metadata": {
  "kernelspec": {
   "display_name": "Python 3 (ipykernel)",
   "language": "python",
   "name": "python3"
  },
  "language_info": {
   "codemirror_mode": {
    "name": "ipython",
    "version": 3
   },
   "file_extension": ".py",
   "mimetype": "text/x-python",
   "name": "python",
   "nbconvert_exporter": "python",
   "pygments_lexer": "ipython3",
   "version": "3.10.8"
  }
 },
 "nbformat": 4,
 "nbformat_minor": 5
}
